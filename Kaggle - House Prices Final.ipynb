{
 "cells": [
  {
   "cell_type": "code",
   "execution_count": 96,
   "id": "e7b30668",
   "metadata": {},
   "outputs": [
    {
     "name": "stdout",
     "output_type": "stream",
     "text": [
      "Index(['Id', 'MSSubClass', 'MSZoning', 'LotFrontage', 'LotArea', 'Street',\n",
      "       'Alley', 'LotShape', 'LandContour', 'Utilities', 'LotConfig',\n",
      "       'LandSlope', 'Neighborhood', 'Condition1', 'Condition2', 'BldgType',\n",
      "       'HouseStyle', 'OverallQual', 'OverallCond', 'YearBuilt', 'YearRemodAdd',\n",
      "       'RoofStyle', 'RoofMatl', 'Exterior1st', 'Exterior2nd', 'MasVnrType',\n",
      "       'MasVnrArea', 'ExterQual', 'ExterCond', 'Foundation', 'BsmtQual',\n",
      "       'BsmtCond', 'BsmtExposure', 'BsmtFinType1', 'BsmtFinSF1',\n",
      "       'BsmtFinType2', 'BsmtFinSF2', 'BsmtUnfSF', 'TotalBsmtSF', 'Heating',\n",
      "       'HeatingQC', 'CentralAir', 'Electrical', '1stFlrSF', '2ndFlrSF',\n",
      "       'LowQualFinSF', 'GrLivArea', 'BsmtFullBath', 'BsmtHalfBath', 'FullBath',\n",
      "       'HalfBath', 'BedroomAbvGr', 'KitchenAbvGr', 'KitchenQual',\n",
      "       'TotRmsAbvGrd', 'Functional', 'Fireplaces', 'FireplaceQu', 'GarageType',\n",
      "       'GarageYrBlt', 'GarageFinish', 'GarageCars', 'GarageArea', 'GarageQual',\n",
      "       'GarageCond', 'PavedDrive', 'WoodDeckSF', 'OpenPorchSF',\n",
      "       'EnclosedPorch', '3SsnPorch', 'ScreenPorch', 'PoolArea', 'PoolQC',\n",
      "       'Fence', 'MiscFeature', 'MiscVal', 'MoSold', 'YrSold', 'SaleType',\n",
      "       'SaleCondition', 'SalePrice'],\n",
      "      dtype='object')\n"
     ]
    }
   ],
   "source": [
    "#\n",
    "#This code was used to output predictions for the \"House Prices - Advanced Regression Techniques\" Kaggle Competition.\n",
    "#It returns an RMSE of 0.13894\n",
    "#\n",
    "\n",
    "\n",
    "# Importing pandas to explore data\n",
    "import pandas as pd\n",
    "\n",
    "# Creating a dataframe\n",
    "data = pd.read_csv(\"train.csv\")\n",
    "\n",
    "# Exploring columns\n",
    "print(data.columns)\n",
    "\n",
    "# Assigning values of X,y\n",
    "y = data.SalePrice\n",
    "X = data.drop(['SalePrice'], axis=1)\n"
   ]
  },
  {
   "cell_type": "code",
   "execution_count": 97,
   "id": "b4b92229",
   "metadata": {},
   "outputs": [],
   "source": [
    "#importing scikit built-in class to split data\n",
    "from sklearn.model_selection import train_test_split\n",
    "\n",
    "\n",
    "# Splitting data\n",
    "X_train, X_valid, y_train, y_valid = train_test_split(X, y, train_size= 0.8, test_size=0.2, \n",
    "                                                      random_state=0)"
   ]
  },
  {
   "cell_type": "code",
   "execution_count": 98,
   "id": "70629d88",
   "metadata": {},
   "outputs": [],
   "source": [
    "# This is a way to differentiate between categorical,numerical data\n",
    "categorical = [cname for cname in X_train.columns if X_train[cname].nunique() < 10 and X_train[cname].dtype == \"object\"]\n",
    "numerical   = [cname for cname in X_train.columns if X_train[cname].dtype in ['int64', 'float64']]\n",
    "\n",
    "# Merging them together\n",
    "my_cols = categorical + numerical\n",
    "\n",
    "# Assigning them\n",
    "X_train = X_train[my_cols].copy()\n",
    "X_valid = X_valid[my_cols].copy()\n",
    "\n"
   ]
  },
  {
   "cell_type": "code",
   "execution_count": 99,
   "id": "442b8e12",
   "metadata": {},
   "outputs": [],
   "source": [
    "#importing preprocessing classes\n",
    "from sklearn.compose import ColumnTransformer\n",
    "from sklearn.pipeline import Pipeline\n",
    "from sklearn.impute import SimpleImputer\n",
    "from sklearn.preprocessing import OneHotEncoder\n",
    "\n",
    "\n",
    "# Preprocessing for numerical data\n",
    "numerical_transformer = SimpleImputer(strategy='constant')\n",
    "\n",
    "# Preprocessing for categorical data\n",
    "categorical_transformer = Pipeline(steps=[\n",
    "    ('imputer', SimpleImputer(strategy='most_frequent')),\n",
    "    ('onehot', OneHotEncoder(handle_unknown='ignore'))\n",
    "])\n",
    "\n",
    "# Preprocessing for numerical and categorical data\n",
    "preprocessor = ColumnTransformer(\n",
    "    transformers=[\n",
    "        ('num', numerical_transformer, numerical),\n",
    "        ('cat', categorical_transformer, categorical)\n",
    "    ])\n",
    "\n"
   ]
  },
  {
   "cell_type": "code",
   "execution_count": 100,
   "id": "c8d0c57d",
   "metadata": {},
   "outputs": [
    {
     "name": "stdout",
     "output_type": "stream",
     "text": [
      "RandomForestRegressor(n_estimators=1000, random_state=0): 33446.55783490342\n",
      "XGBRegressor(base_score=0.5, booster='gbtree', colsample_bylevel=1,\n",
      "             colsample_bynode=1, colsample_bytree=1, enable_categorical=False,\n",
      "             gamma=0, gpu_id=-1, importance_type=None,\n",
      "             interaction_constraints='', learning_rate=0.095, max_delta_step=0,\n",
      "             max_depth=3, min_child_weight=1, missing=nan,\n",
      "             monotone_constraints='()', n_estimators=301, n_jobs=12,\n",
      "             num_parallel_tree=1, predictor='auto', random_state=0, reg_alpha=0,\n",
      "             reg_lambda=1, scale_pos_weight=1, subsample=1, tree_method='exact',\n",
      "             validate_parameters=1, verbosity=None): 33213.862278805864\n",
      "LinearRegression(): 61175.77397900344\n",
      "SVR(): 85096.07858146935\n"
     ]
    }
   ],
   "source": [
    "# We're using mean squared error to calculate error\n",
    "from sklearn.metrics import mean_squared_error\n",
    "\n",
    "# Importing regression methods\n",
    "from sklearn.ensemble import RandomForestRegressor\n",
    "import xgboost as xgb\n",
    "from sklearn.linear_model import LinearRegression\n",
    "from sklearn.svm import SVR\n",
    "\n",
    "\n",
    "# Function to iterate over each of our regression methods, for now, we're using 4.\n",
    "# Tried custom parameters for the most promising, RFR and XGB.\n",
    "# ////////////////\n",
    "\n",
    "def get_models():\n",
    "    rf = RandomForestRegressor(n_estimators=1000, random_state=0)\n",
    "    xgb_reg = xgb.XGBRegressor(n_estimators=301, max_depth=3, learning_rate=0.095)\n",
    "    lr = LinearRegression()\n",
    "    SVR_reg = SVR()\n",
    "    \n",
    "    regression = [rf,xgb_reg,lr,SVR_reg]\n",
    "    \n",
    "    for i in regression:\n",
    "        model = i\n",
    "        my_pipeline = Pipeline(steps=[('preprocessor', preprocessor),\n",
    "                              ('model', model)])\n",
    "        my_pipeline.fit(X_train,y_train)\n",
    "        i_preds = my_pipeline.predict(X_valid)\n",
    "        i_MSE = mean_squared_error(y_valid, i_preds,squared=False)\n",
    "        print(str(i) + \": \" + str(i_MSE))\n",
    "\n",
    "get_models()"
   ]
  },
  {
   "cell_type": "code",
   "execution_count": 101,
   "id": "49af534c",
   "metadata": {},
   "outputs": [],
   "source": [
    "# Now that we know XGB performs (a little bit) better than RFR, now we'll be training the full test data\n",
    "# ////Training the model\n",
    "model = xgb.XGBRegressor(n_estimators=301, max_depth=3, learning_rate=0.095)\n",
    "my_pipeline_full = Pipeline(steps=[('preprocessor', preprocessor),\n",
    "                                   ('model', model)])\n",
    "my_pipeline_full.fit(X,y)\n",
    "\n",
    "\n",
    "#//// Importing test data\n",
    "validate_data = pd.read_csv(\"test.csv\")\n",
    "\n",
    "#//// Exporting predictions\n",
    "final_data = {'Id': validate_data.Id, 'SalePrice': my_pipeline_full.predict(validate_data[my_cols])}\n",
    "final_data = pd.DataFrame(data=final_data)\n",
    "final_data.to_csv('your_name.csv', index=False)\n",
    "\n",
    "# Result exported in kaggle outputs an evaluation of 0.13894.\n",
    "# This is evaluating on RMSE between the logarithm of the predicted value and the logarithm of the observed sales price.\n",
    "# This result can be improved with further work on preprocessing, trying other methods of encoding. "
   ]
  }
 ],
 "metadata": {
  "kernelspec": {
   "display_name": "Python 3 (ipykernel)",
   "language": "python",
   "name": "python3"
  },
  "language_info": {
   "codemirror_mode": {
    "name": "ipython",
    "version": 3
   },
   "file_extension": ".py",
   "mimetype": "text/x-python",
   "name": "python",
   "nbconvert_exporter": "python",
   "pygments_lexer": "ipython3",
   "version": "3.9.7"
  }
 },
 "nbformat": 4,
 "nbformat_minor": 5
}
